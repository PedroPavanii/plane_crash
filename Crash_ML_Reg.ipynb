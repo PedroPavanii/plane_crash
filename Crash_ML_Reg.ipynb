{
  "nbformat": 4,
  "nbformat_minor": 0,
  "metadata": {
    "colab": {
      "provenance": [],
      "collapsed_sections": [
        "RrLTUPj0Xlwh",
        "510l5PFLUNk4"
      ]
    },
    "kernelspec": {
      "name": "python3",
      "display_name": "Python 3"
    },
    "language_info": {
      "name": "python"
    },
    "widgets": {
      "application/vnd.jupyter.widget-state+json": {
        "ad5160395d8a4b2589845a4bb84abbbf": {
          "model_module": "@jupyter-widgets/controls",
          "model_name": "HBoxModel",
          "model_module_version": "1.5.0",
          "state": {
            "_dom_classes": [],
            "_model_module": "@jupyter-widgets/controls",
            "_model_module_version": "1.5.0",
            "_model_name": "HBoxModel",
            "_view_count": null,
            "_view_module": "@jupyter-widgets/controls",
            "_view_module_version": "1.5.0",
            "_view_name": "HBoxView",
            "box_style": "",
            "children": [
              "IPY_MODEL_e37902c159e54ab2bb4ca4b5c4f1e749",
              "IPY_MODEL_8d095fa7b182400983b0acbf78df82c1",
              "IPY_MODEL_42ea951bbc73489ca91f88140a88e787"
            ],
            "layout": "IPY_MODEL_07f9ef62a5954cc5a933dee9c2592e23"
          }
        },
        "e37902c159e54ab2bb4ca4b5c4f1e749": {
          "model_module": "@jupyter-widgets/controls",
          "model_name": "HTMLModel",
          "model_module_version": "1.5.0",
          "state": {
            "_dom_classes": [],
            "_model_module": "@jupyter-widgets/controls",
            "_model_module_version": "1.5.0",
            "_model_name": "HTMLModel",
            "_view_count": null,
            "_view_module": "@jupyter-widgets/controls",
            "_view_module_version": "1.5.0",
            "_view_name": "HTMLView",
            "description": "",
            "description_tooltip": null,
            "layout": "IPY_MODEL_7a6b336889b749cc9433416ceedd91c7",
            "placeholder": "​",
            "style": "IPY_MODEL_847e494770964efbaf29831e10ff5b72",
            "value": "Processing: 100%"
          }
        },
        "8d095fa7b182400983b0acbf78df82c1": {
          "model_module": "@jupyter-widgets/controls",
          "model_name": "FloatProgressModel",
          "model_module_version": "1.5.0",
          "state": {
            "_dom_classes": [],
            "_model_module": "@jupyter-widgets/controls",
            "_model_module_version": "1.5.0",
            "_model_name": "FloatProgressModel",
            "_view_count": null,
            "_view_module": "@jupyter-widgets/controls",
            "_view_module_version": "1.5.0",
            "_view_name": "ProgressView",
            "bar_style": "",
            "description": "",
            "description_tooltip": null,
            "layout": "IPY_MODEL_b6ee5384f27f49f5ba93293badb3f6f3",
            "max": 81,
            "min": 0,
            "orientation": "horizontal",
            "style": "IPY_MODEL_072a17428e5845c89b57c7af6e6a3d83",
            "value": 81
          }
        },
        "42ea951bbc73489ca91f88140a88e787": {
          "model_module": "@jupyter-widgets/controls",
          "model_name": "HTMLModel",
          "model_module_version": "1.5.0",
          "state": {
            "_dom_classes": [],
            "_model_module": "@jupyter-widgets/controls",
            "_model_module_version": "1.5.0",
            "_model_name": "HTMLModel",
            "_view_count": null,
            "_view_module": "@jupyter-widgets/controls",
            "_view_module_version": "1.5.0",
            "_view_name": "HTMLView",
            "description": "",
            "description_tooltip": null,
            "layout": "IPY_MODEL_c971451f32174a84844d9a422a0ca0a9",
            "placeholder": "​",
            "style": "IPY_MODEL_61f73177237b4d5e94f81dbca90ff90b",
            "value": " 81/81 [05:49&lt;00:00,  2.47s/it]"
          }
        },
        "07f9ef62a5954cc5a933dee9c2592e23": {
          "model_module": "@jupyter-widgets/base",
          "model_name": "LayoutModel",
          "model_module_version": "1.2.0",
          "state": {
            "_model_module": "@jupyter-widgets/base",
            "_model_module_version": "1.2.0",
            "_model_name": "LayoutModel",
            "_view_count": null,
            "_view_module": "@jupyter-widgets/base",
            "_view_module_version": "1.2.0",
            "_view_name": "LayoutView",
            "align_content": null,
            "align_items": null,
            "align_self": null,
            "border": null,
            "bottom": null,
            "display": null,
            "flex": null,
            "flex_flow": null,
            "grid_area": null,
            "grid_auto_columns": null,
            "grid_auto_flow": null,
            "grid_auto_rows": null,
            "grid_column": null,
            "grid_gap": null,
            "grid_row": null,
            "grid_template_areas": null,
            "grid_template_columns": null,
            "grid_template_rows": null,
            "height": null,
            "justify_content": null,
            "justify_items": null,
            "left": null,
            "margin": null,
            "max_height": null,
            "max_width": null,
            "min_height": null,
            "min_width": null,
            "object_fit": null,
            "object_position": null,
            "order": null,
            "overflow": null,
            "overflow_x": null,
            "overflow_y": null,
            "padding": null,
            "right": null,
            "top": null,
            "visibility": "hidden",
            "width": null
          }
        },
        "7a6b336889b749cc9433416ceedd91c7": {
          "model_module": "@jupyter-widgets/base",
          "model_name": "LayoutModel",
          "model_module_version": "1.2.0",
          "state": {
            "_model_module": "@jupyter-widgets/base",
            "_model_module_version": "1.2.0",
            "_model_name": "LayoutModel",
            "_view_count": null,
            "_view_module": "@jupyter-widgets/base",
            "_view_module_version": "1.2.0",
            "_view_name": "LayoutView",
            "align_content": null,
            "align_items": null,
            "align_self": null,
            "border": null,
            "bottom": null,
            "display": null,
            "flex": null,
            "flex_flow": null,
            "grid_area": null,
            "grid_auto_columns": null,
            "grid_auto_flow": null,
            "grid_auto_rows": null,
            "grid_column": null,
            "grid_gap": null,
            "grid_row": null,
            "grid_template_areas": null,
            "grid_template_columns": null,
            "grid_template_rows": null,
            "height": null,
            "justify_content": null,
            "justify_items": null,
            "left": null,
            "margin": null,
            "max_height": null,
            "max_width": null,
            "min_height": null,
            "min_width": null,
            "object_fit": null,
            "object_position": null,
            "order": null,
            "overflow": null,
            "overflow_x": null,
            "overflow_y": null,
            "padding": null,
            "right": null,
            "top": null,
            "visibility": null,
            "width": null
          }
        },
        "847e494770964efbaf29831e10ff5b72": {
          "model_module": "@jupyter-widgets/controls",
          "model_name": "DescriptionStyleModel",
          "model_module_version": "1.5.0",
          "state": {
            "_model_module": "@jupyter-widgets/controls",
            "_model_module_version": "1.5.0",
            "_model_name": "DescriptionStyleModel",
            "_view_count": null,
            "_view_module": "@jupyter-widgets/base",
            "_view_module_version": "1.2.0",
            "_view_name": "StyleView",
            "description_width": ""
          }
        },
        "b6ee5384f27f49f5ba93293badb3f6f3": {
          "model_module": "@jupyter-widgets/base",
          "model_name": "LayoutModel",
          "model_module_version": "1.2.0",
          "state": {
            "_model_module": "@jupyter-widgets/base",
            "_model_module_version": "1.2.0",
            "_model_name": "LayoutModel",
            "_view_count": null,
            "_view_module": "@jupyter-widgets/base",
            "_view_module_version": "1.2.0",
            "_view_name": "LayoutView",
            "align_content": null,
            "align_items": null,
            "align_self": null,
            "border": null,
            "bottom": null,
            "display": null,
            "flex": null,
            "flex_flow": null,
            "grid_area": null,
            "grid_auto_columns": null,
            "grid_auto_flow": null,
            "grid_auto_rows": null,
            "grid_column": null,
            "grid_gap": null,
            "grid_row": null,
            "grid_template_areas": null,
            "grid_template_columns": null,
            "grid_template_rows": null,
            "height": null,
            "justify_content": null,
            "justify_items": null,
            "left": null,
            "margin": null,
            "max_height": null,
            "max_width": null,
            "min_height": null,
            "min_width": null,
            "object_fit": null,
            "object_position": null,
            "order": null,
            "overflow": null,
            "overflow_x": null,
            "overflow_y": null,
            "padding": null,
            "right": null,
            "top": null,
            "visibility": null,
            "width": null
          }
        },
        "072a17428e5845c89b57c7af6e6a3d83": {
          "model_module": "@jupyter-widgets/controls",
          "model_name": "ProgressStyleModel",
          "model_module_version": "1.5.0",
          "state": {
            "_model_module": "@jupyter-widgets/controls",
            "_model_module_version": "1.5.0",
            "_model_name": "ProgressStyleModel",
            "_view_count": null,
            "_view_module": "@jupyter-widgets/base",
            "_view_module_version": "1.2.0",
            "_view_name": "StyleView",
            "bar_color": null,
            "description_width": ""
          }
        },
        "c971451f32174a84844d9a422a0ca0a9": {
          "model_module": "@jupyter-widgets/base",
          "model_name": "LayoutModel",
          "model_module_version": "1.2.0",
          "state": {
            "_model_module": "@jupyter-widgets/base",
            "_model_module_version": "1.2.0",
            "_model_name": "LayoutModel",
            "_view_count": null,
            "_view_module": "@jupyter-widgets/base",
            "_view_module_version": "1.2.0",
            "_view_name": "LayoutView",
            "align_content": null,
            "align_items": null,
            "align_self": null,
            "border": null,
            "bottom": null,
            "display": null,
            "flex": null,
            "flex_flow": null,
            "grid_area": null,
            "grid_auto_columns": null,
            "grid_auto_flow": null,
            "grid_auto_rows": null,
            "grid_column": null,
            "grid_gap": null,
            "grid_row": null,
            "grid_template_areas": null,
            "grid_template_columns": null,
            "grid_template_rows": null,
            "height": null,
            "justify_content": null,
            "justify_items": null,
            "left": null,
            "margin": null,
            "max_height": null,
            "max_width": null,
            "min_height": null,
            "min_width": null,
            "object_fit": null,
            "object_position": null,
            "order": null,
            "overflow": null,
            "overflow_x": null,
            "overflow_y": null,
            "padding": null,
            "right": null,
            "top": null,
            "visibility": null,
            "width": null
          }
        },
        "61f73177237b4d5e94f81dbca90ff90b": {
          "model_module": "@jupyter-widgets/controls",
          "model_name": "DescriptionStyleModel",
          "model_module_version": "1.5.0",
          "state": {
            "_model_module": "@jupyter-widgets/controls",
            "_model_module_version": "1.5.0",
            "_model_name": "DescriptionStyleModel",
            "_view_count": null,
            "_view_module": "@jupyter-widgets/base",
            "_view_module_version": "1.2.0",
            "_view_name": "StyleView",
            "description_width": ""
          }
        },
        "dc30c642bde345c890d3bbc0a5915782": {
          "model_module": "@jupyter-widgets/controls",
          "model_name": "HBoxModel",
          "model_module_version": "1.5.0",
          "state": {
            "_dom_classes": [],
            "_model_module": "@jupyter-widgets/controls",
            "_model_module_version": "1.5.0",
            "_model_name": "HBoxModel",
            "_view_count": null,
            "_view_module": "@jupyter-widgets/controls",
            "_view_module_version": "1.5.0",
            "_view_name": "HBoxView",
            "box_style": "",
            "children": [
              "IPY_MODEL_b8aa6e567b7b451a91dd961225a2955e",
              "IPY_MODEL_6a53d5f71b944c7f8667f3921169ff11",
              "IPY_MODEL_ce77bae9ea6646358c22b385859ab5ae"
            ],
            "layout": "IPY_MODEL_8941e8a86e0149f4b77d6ade64eacc7a"
          }
        },
        "b8aa6e567b7b451a91dd961225a2955e": {
          "model_module": "@jupyter-widgets/controls",
          "model_name": "HTMLModel",
          "model_module_version": "1.5.0",
          "state": {
            "_dom_classes": [],
            "_model_module": "@jupyter-widgets/controls",
            "_model_module_version": "1.5.0",
            "_model_name": "HTMLModel",
            "_view_count": null,
            "_view_module": "@jupyter-widgets/controls",
            "_view_module_version": "1.5.0",
            "_view_name": "HTMLView",
            "description": "",
            "description_tooltip": null,
            "layout": "IPY_MODEL_e931e021f8d34826b050746117979323",
            "placeholder": "​",
            "style": "IPY_MODEL_654c756b6ad845f5ab3bacd4a0f80a8e",
            "value": "Processing: 100%"
          }
        },
        "6a53d5f71b944c7f8667f3921169ff11": {
          "model_module": "@jupyter-widgets/controls",
          "model_name": "FloatProgressModel",
          "model_module_version": "1.5.0",
          "state": {
            "_dom_classes": [],
            "_model_module": "@jupyter-widgets/controls",
            "_model_module_version": "1.5.0",
            "_model_name": "FloatProgressModel",
            "_view_count": null,
            "_view_module": "@jupyter-widgets/controls",
            "_view_module_version": "1.5.0",
            "_view_name": "ProgressView",
            "bar_style": "",
            "description": "",
            "description_tooltip": null,
            "layout": "IPY_MODEL_a6991d2d7b8540969dc6f42b6c0faecf",
            "max": 7,
            "min": 0,
            "orientation": "horizontal",
            "style": "IPY_MODEL_5913cf1c0e09459c82c6b87efe2fb941",
            "value": 7
          }
        },
        "ce77bae9ea6646358c22b385859ab5ae": {
          "model_module": "@jupyter-widgets/controls",
          "model_name": "HTMLModel",
          "model_module_version": "1.5.0",
          "state": {
            "_dom_classes": [],
            "_model_module": "@jupyter-widgets/controls",
            "_model_module_version": "1.5.0",
            "_model_name": "HTMLModel",
            "_view_count": null,
            "_view_module": "@jupyter-widgets/controls",
            "_view_module_version": "1.5.0",
            "_view_name": "HTMLView",
            "description": "",
            "description_tooltip": null,
            "layout": "IPY_MODEL_709d3e452007412c83f79667d5775df0",
            "placeholder": "​",
            "style": "IPY_MODEL_35b8c9de3c594e27b7c8a516a64ef9b6",
            "value": " 7/7 [02:52&lt;00:00, 18.84s/it]"
          }
        },
        "8941e8a86e0149f4b77d6ade64eacc7a": {
          "model_module": "@jupyter-widgets/base",
          "model_name": "LayoutModel",
          "model_module_version": "1.2.0",
          "state": {
            "_model_module": "@jupyter-widgets/base",
            "_model_module_version": "1.2.0",
            "_model_name": "LayoutModel",
            "_view_count": null,
            "_view_module": "@jupyter-widgets/base",
            "_view_module_version": "1.2.0",
            "_view_name": "LayoutView",
            "align_content": null,
            "align_items": null,
            "align_self": null,
            "border": null,
            "bottom": null,
            "display": null,
            "flex": null,
            "flex_flow": null,
            "grid_area": null,
            "grid_auto_columns": null,
            "grid_auto_flow": null,
            "grid_auto_rows": null,
            "grid_column": null,
            "grid_gap": null,
            "grid_row": null,
            "grid_template_areas": null,
            "grid_template_columns": null,
            "grid_template_rows": null,
            "height": null,
            "justify_content": null,
            "justify_items": null,
            "left": null,
            "margin": null,
            "max_height": null,
            "max_width": null,
            "min_height": null,
            "min_width": null,
            "object_fit": null,
            "object_position": null,
            "order": null,
            "overflow": null,
            "overflow_x": null,
            "overflow_y": null,
            "padding": null,
            "right": null,
            "top": null,
            "visibility": "hidden",
            "width": null
          }
        },
        "e931e021f8d34826b050746117979323": {
          "model_module": "@jupyter-widgets/base",
          "model_name": "LayoutModel",
          "model_module_version": "1.2.0",
          "state": {
            "_model_module": "@jupyter-widgets/base",
            "_model_module_version": "1.2.0",
            "_model_name": "LayoutModel",
            "_view_count": null,
            "_view_module": "@jupyter-widgets/base",
            "_view_module_version": "1.2.0",
            "_view_name": "LayoutView",
            "align_content": null,
            "align_items": null,
            "align_self": null,
            "border": null,
            "bottom": null,
            "display": null,
            "flex": null,
            "flex_flow": null,
            "grid_area": null,
            "grid_auto_columns": null,
            "grid_auto_flow": null,
            "grid_auto_rows": null,
            "grid_column": null,
            "grid_gap": null,
            "grid_row": null,
            "grid_template_areas": null,
            "grid_template_columns": null,
            "grid_template_rows": null,
            "height": null,
            "justify_content": null,
            "justify_items": null,
            "left": null,
            "margin": null,
            "max_height": null,
            "max_width": null,
            "min_height": null,
            "min_width": null,
            "object_fit": null,
            "object_position": null,
            "order": null,
            "overflow": null,
            "overflow_x": null,
            "overflow_y": null,
            "padding": null,
            "right": null,
            "top": null,
            "visibility": null,
            "width": null
          }
        },
        "654c756b6ad845f5ab3bacd4a0f80a8e": {
          "model_module": "@jupyter-widgets/controls",
          "model_name": "DescriptionStyleModel",
          "model_module_version": "1.5.0",
          "state": {
            "_model_module": "@jupyter-widgets/controls",
            "_model_module_version": "1.5.0",
            "_model_name": "DescriptionStyleModel",
            "_view_count": null,
            "_view_module": "@jupyter-widgets/base",
            "_view_module_version": "1.2.0",
            "_view_name": "StyleView",
            "description_width": ""
          }
        },
        "a6991d2d7b8540969dc6f42b6c0faecf": {
          "model_module": "@jupyter-widgets/base",
          "model_name": "LayoutModel",
          "model_module_version": "1.2.0",
          "state": {
            "_model_module": "@jupyter-widgets/base",
            "_model_module_version": "1.2.0",
            "_model_name": "LayoutModel",
            "_view_count": null,
            "_view_module": "@jupyter-widgets/base",
            "_view_module_version": "1.2.0",
            "_view_name": "LayoutView",
            "align_content": null,
            "align_items": null,
            "align_self": null,
            "border": null,
            "bottom": null,
            "display": null,
            "flex": null,
            "flex_flow": null,
            "grid_area": null,
            "grid_auto_columns": null,
            "grid_auto_flow": null,
            "grid_auto_rows": null,
            "grid_column": null,
            "grid_gap": null,
            "grid_row": null,
            "grid_template_areas": null,
            "grid_template_columns": null,
            "grid_template_rows": null,
            "height": null,
            "justify_content": null,
            "justify_items": null,
            "left": null,
            "margin": null,
            "max_height": null,
            "max_width": null,
            "min_height": null,
            "min_width": null,
            "object_fit": null,
            "object_position": null,
            "order": null,
            "overflow": null,
            "overflow_x": null,
            "overflow_y": null,
            "padding": null,
            "right": null,
            "top": null,
            "visibility": null,
            "width": null
          }
        },
        "5913cf1c0e09459c82c6b87efe2fb941": {
          "model_module": "@jupyter-widgets/controls",
          "model_name": "ProgressStyleModel",
          "model_module_version": "1.5.0",
          "state": {
            "_model_module": "@jupyter-widgets/controls",
            "_model_module_version": "1.5.0",
            "_model_name": "ProgressStyleModel",
            "_view_count": null,
            "_view_module": "@jupyter-widgets/base",
            "_view_module_version": "1.2.0",
            "_view_name": "StyleView",
            "bar_color": null,
            "description_width": ""
          }
        },
        "709d3e452007412c83f79667d5775df0": {
          "model_module": "@jupyter-widgets/base",
          "model_name": "LayoutModel",
          "model_module_version": "1.2.0",
          "state": {
            "_model_module": "@jupyter-widgets/base",
            "_model_module_version": "1.2.0",
            "_model_name": "LayoutModel",
            "_view_count": null,
            "_view_module": "@jupyter-widgets/base",
            "_view_module_version": "1.2.0",
            "_view_name": "LayoutView",
            "align_content": null,
            "align_items": null,
            "align_self": null,
            "border": null,
            "bottom": null,
            "display": null,
            "flex": null,
            "flex_flow": null,
            "grid_area": null,
            "grid_auto_columns": null,
            "grid_auto_flow": null,
            "grid_auto_rows": null,
            "grid_column": null,
            "grid_gap": null,
            "grid_row": null,
            "grid_template_areas": null,
            "grid_template_columns": null,
            "grid_template_rows": null,
            "height": null,
            "justify_content": null,
            "justify_items": null,
            "left": null,
            "margin": null,
            "max_height": null,
            "max_width": null,
            "min_height": null,
            "min_width": null,
            "object_fit": null,
            "object_position": null,
            "order": null,
            "overflow": null,
            "overflow_x": null,
            "overflow_y": null,
            "padding": null,
            "right": null,
            "top": null,
            "visibility": null,
            "width": null
          }
        },
        "35b8c9de3c594e27b7c8a516a64ef9b6": {
          "model_module": "@jupyter-widgets/controls",
          "model_name": "DescriptionStyleModel",
          "model_module_version": "1.5.0",
          "state": {
            "_model_module": "@jupyter-widgets/controls",
            "_model_module_version": "1.5.0",
            "_model_name": "DescriptionStyleModel",
            "_view_count": null,
            "_view_module": "@jupyter-widgets/base",
            "_view_module_version": "1.2.0",
            "_view_name": "StyleView",
            "description_width": ""
          }
        },
        "3264d60012a84d05991f1fc37ce37f5e": {
          "model_module": "@jupyter-widgets/controls",
          "model_name": "VBoxModel",
          "model_module_version": "1.5.0",
          "state": {
            "_dom_classes": [
              "widget-interact"
            ],
            "_model_module": "@jupyter-widgets/controls",
            "_model_module_version": "1.5.0",
            "_model_name": "VBoxModel",
            "_view_count": null,
            "_view_module": "@jupyter-widgets/controls",
            "_view_module_version": "1.5.0",
            "_view_name": "VBoxView",
            "box_style": "",
            "children": [
              "IPY_MODEL_2dec53a8d66e41f2a88ae93636551fb5",
              "IPY_MODEL_834fe49091ef4e71a28fb136453d7d07"
            ],
            "layout": "IPY_MODEL_f03f449ff7514629a046f4723ee06ee0"
          }
        },
        "2dec53a8d66e41f2a88ae93636551fb5": {
          "model_module": "@jupyter-widgets/controls",
          "model_name": "ToggleButtonsModel",
          "model_module_version": "1.5.0",
          "state": {
            "_dom_classes": [],
            "_model_module": "@jupyter-widgets/controls",
            "_model_module_version": "1.5.0",
            "_model_name": "ToggleButtonsModel",
            "_options_labels": [
              "Pipeline Plot",
              "Hyperparameters",
              "Residuals",
              "Prediction Error",
              "Cooks Distance",
              "Feature Selection",
              "Learning Curve",
              "Manifold Learning",
              "Validation Curve",
              "Feature Importance",
              "Feature Importance (All)",
              "Decision Tree",
              "Interactive Residuals"
            ],
            "_view_count": null,
            "_view_module": "@jupyter-widgets/controls",
            "_view_module_version": "1.5.0",
            "_view_name": "ToggleButtonsView",
            "button_style": "",
            "description": "Plot Type:",
            "description_tooltip": null,
            "disabled": false,
            "icons": [
              ""
            ],
            "index": 0,
            "layout": "IPY_MODEL_59cabb7994874fd9be3aa5b05178d488",
            "style": "IPY_MODEL_fb36f58363a7491b89d311a7152e106d",
            "tooltips": []
          }
        },
        "834fe49091ef4e71a28fb136453d7d07": {
          "model_module": "@jupyter-widgets/output",
          "model_name": "OutputModel",
          "model_module_version": "1.0.0",
          "state": {
            "_dom_classes": [],
            "_model_module": "@jupyter-widgets/output",
            "_model_module_version": "1.0.0",
            "_model_name": "OutputModel",
            "_view_count": null,
            "_view_module": "@jupyter-widgets/output",
            "_view_module_version": "1.0.0",
            "_view_name": "OutputView",
            "layout": "IPY_MODEL_52527d8d44f3452a9a642137b882198f",
            "msg_id": "",
            "outputs": [
              {
                "output_type": "display_data",
                "data": {
                  "text/plain": "<Figure size 3200x600 with 1 Axes>",
                  "image/png": "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\n"
                },
                "metadata": {}
              }
            ]
          }
        },
        "f03f449ff7514629a046f4723ee06ee0": {
          "model_module": "@jupyter-widgets/base",
          "model_name": "LayoutModel",
          "model_module_version": "1.2.0",
          "state": {
            "_model_module": "@jupyter-widgets/base",
            "_model_module_version": "1.2.0",
            "_model_name": "LayoutModel",
            "_view_count": null,
            "_view_module": "@jupyter-widgets/base",
            "_view_module_version": "1.2.0",
            "_view_name": "LayoutView",
            "align_content": null,
            "align_items": null,
            "align_self": null,
            "border": null,
            "bottom": null,
            "display": null,
            "flex": null,
            "flex_flow": null,
            "grid_area": null,
            "grid_auto_columns": null,
            "grid_auto_flow": null,
            "grid_auto_rows": null,
            "grid_column": null,
            "grid_gap": null,
            "grid_row": null,
            "grid_template_areas": null,
            "grid_template_columns": null,
            "grid_template_rows": null,
            "height": null,
            "justify_content": null,
            "justify_items": null,
            "left": null,
            "margin": null,
            "max_height": null,
            "max_width": null,
            "min_height": null,
            "min_width": null,
            "object_fit": null,
            "object_position": null,
            "order": null,
            "overflow": null,
            "overflow_x": null,
            "overflow_y": null,
            "padding": null,
            "right": null,
            "top": null,
            "visibility": null,
            "width": null
          }
        },
        "59cabb7994874fd9be3aa5b05178d488": {
          "model_module": "@jupyter-widgets/base",
          "model_name": "LayoutModel",
          "model_module_version": "1.2.0",
          "state": {
            "_model_module": "@jupyter-widgets/base",
            "_model_module_version": "1.2.0",
            "_model_name": "LayoutModel",
            "_view_count": null,
            "_view_module": "@jupyter-widgets/base",
            "_view_module_version": "1.2.0",
            "_view_name": "LayoutView",
            "align_content": null,
            "align_items": null,
            "align_self": null,
            "border": null,
            "bottom": null,
            "display": null,
            "flex": null,
            "flex_flow": null,
            "grid_area": null,
            "grid_auto_columns": null,
            "grid_auto_flow": null,
            "grid_auto_rows": null,
            "grid_column": null,
            "grid_gap": null,
            "grid_row": null,
            "grid_template_areas": null,
            "grid_template_columns": null,
            "grid_template_rows": null,
            "height": null,
            "justify_content": null,
            "justify_items": null,
            "left": null,
            "margin": null,
            "max_height": null,
            "max_width": null,
            "min_height": null,
            "min_width": null,
            "object_fit": null,
            "object_position": null,
            "order": null,
            "overflow": null,
            "overflow_x": null,
            "overflow_y": null,
            "padding": null,
            "right": null,
            "top": null,
            "visibility": null,
            "width": null
          }
        },
        "fb36f58363a7491b89d311a7152e106d": {
          "model_module": "@jupyter-widgets/controls",
          "model_name": "ToggleButtonsStyleModel",
          "model_module_version": "1.5.0",
          "state": {
            "_model_module": "@jupyter-widgets/controls",
            "_model_module_version": "1.5.0",
            "_model_name": "ToggleButtonsStyleModel",
            "_view_count": null,
            "_view_module": "@jupyter-widgets/base",
            "_view_module_version": "1.2.0",
            "_view_name": "StyleView",
            "button_width": "",
            "description_width": "",
            "font_weight": ""
          }
        },
        "52527d8d44f3452a9a642137b882198f": {
          "model_module": "@jupyter-widgets/base",
          "model_name": "LayoutModel",
          "model_module_version": "1.2.0",
          "state": {
            "_model_module": "@jupyter-widgets/base",
            "_model_module_version": "1.2.0",
            "_model_name": "LayoutModel",
            "_view_count": null,
            "_view_module": "@jupyter-widgets/base",
            "_view_module_version": "1.2.0",
            "_view_name": "LayoutView",
            "align_content": null,
            "align_items": null,
            "align_self": null,
            "border": null,
            "bottom": null,
            "display": null,
            "flex": null,
            "flex_flow": null,
            "grid_area": null,
            "grid_auto_columns": null,
            "grid_auto_flow": null,
            "grid_auto_rows": null,
            "grid_column": null,
            "grid_gap": null,
            "grid_row": null,
            "grid_template_areas": null,
            "grid_template_columns": null,
            "grid_template_rows": null,
            "height": null,
            "justify_content": null,
            "justify_items": null,
            "left": null,
            "margin": null,
            "max_height": null,
            "max_width": null,
            "min_height": null,
            "min_width": null,
            "object_fit": null,
            "object_position": null,
            "order": null,
            "overflow": null,
            "overflow_x": null,
            "overflow_y": null,
            "padding": null,
            "right": null,
            "top": null,
            "visibility": null,
            "width": null
          }
        }
      }
    }
  },
  "cells": [
    {
      "cell_type": "code",
      "execution_count": null,
      "metadata": {
        "id": "FHRSSIKBTU6g"
      },
      "outputs": [],
      "source": [
        "from IPython.core.display import publish_display_data\n",
        "!pip install pycaret\n",
        "import pandas as pd\n",
        "import numpy as np\n",
        "import seaborn as sns\n",
        "import pandas as pd\n",
        "from sklearn.model_selection import train_test_split\n",
        "import matplotlib as plt"
      ]
    },
    {
      "cell_type": "markdown",
      "source": [
        "## EDA"
      ],
      "metadata": {
        "id": "RrLTUPj0Xlwh"
      }
    },
    {
      "cell_type": "code",
      "source": [
        "df = pd.read_csv(r'https://raw.githubusercontent.com/PedroPavanii/plane_crash/main/Plane%20Crashes.csv')"
      ],
      "metadata": {
        "id": "s1UJGU90T67K"
      },
      "execution_count": 2,
      "outputs": []
    },
    {
      "cell_type": "code",
      "source": [
        "df = df.drop(['MSN', 'YOM', 'Time','Registration', 'Schedule', 'Flight no.', 'Crash location',\n",
        "         'Other fatalities','Circumstances', 'Region', 'Flight phase'], axis=1)"
      ],
      "metadata": {
        "id": "gtKaZNsyT7LZ"
      },
      "execution_count": 3,
      "outputs": []
    },
    {
      "cell_type": "code",
      "source": [
        "df['Flight type'] = df['Flight type'].str.replace('Scheduled Revenue Flight', 'Airline Flight')\n",
        "df['Flight type'] = df['Flight type'].str.replace('Survey / Patrol / Reconnaissance', 'Military')\n",
        "df['Flight type'] = df['Flight type'].str.replace('Bombing', 'Military')\n",
        "df['Flight type'] = df['Flight type'].str.replace('Fire fighting', 'Military')\n",
        "df['Flight type'] = df['Flight type'].str.replace('Survey / Patrol / Reconnaissance', 'Military')\n",
        "df['Flight type'] = df['Flight type'].str.replace('Aerial photography', 'Military')\n",
        "df['Flight type'] = df['Flight type'].str.replace('Delivery', 'Government')\n",
        "df['Flight type'] = df['Flight type'].str.replace('Postal (mail)', 'Government')\n",
        "df['Flight type'] = df['Flight type'].str.replace('Charter/Taxi (Non Scheduled Revenue Flight)', 'Private')\n",
        "df['Flight type'] = df['Flight type'].str.replace('Executive/Corporate/Business', 'Private')\n",
        "df['Flight type'] = df['Flight type'].replace('Postal (mail)', 'Government')\n",
        "df['Flight type'] = df['Flight type'].replace('Charter/Taxi (Non Airline Flight)','Private')"
      ],
      "metadata": {
        "colab": {
          "base_uri": "https://localhost:8080/"
        },
        "id": "TtO7Lx4GT7Rd",
        "outputId": "af77a18e-03d0-4f92-bc18-3e026de2129a"
      },
      "execution_count": 4,
      "outputs": [
        {
          "output_type": "stream",
          "name": "stderr",
          "text": [
            "<ipython-input-4-04c7f481efa5>:8: FutureWarning: The default value of regex will change from True to False in a future version.\n",
            "  df['Flight type'] = df['Flight type'].str.replace('Postal (mail)', 'Government')\n",
            "<ipython-input-4-04c7f481efa5>:9: FutureWarning: The default value of regex will change from True to False in a future version.\n",
            "  df['Flight type'] = df['Flight type'].str.replace('Charter/Taxi (Non Scheduled Revenue Flight)', 'Private')\n"
          ]
        }
      ]
    },
    {
      "cell_type": "code",
      "source": [
        "df = df.dropna()"
      ],
      "metadata": {
        "id": "xoLkWOFcUFex"
      },
      "execution_count": 5,
      "outputs": []
    },
    {
      "cell_type": "markdown",
      "source": [
        "## Modeling"
      ],
      "metadata": {
        "id": "510l5PFLUNk4"
      }
    },
    {
      "cell_type": "code",
      "source": [
        "from pycaret.regression import *\n",
        "s = setup(df, target = 'PAX fatalities', session_id = 42)"
      ],
      "metadata": {
        "colab": {
          "base_uri": "https://localhost:8080/",
          "height": 771
        },
        "id": "F8pbwkACUFmR",
        "outputId": "1502ba83-406f-4ee0-a698-6a9f5ca50524"
      },
      "execution_count": 7,
      "outputs": [
        {
          "output_type": "display_data",
          "data": {
            "text/plain": [
              "<pandas.io.formats.style.Styler at 0x7fa2ac1083a0>"
            ],
            "text/html": [
              "<style type=\"text/css\">\n",
              "#T_9be0c_row10_col1 {\n",
              "  background-color: lightgreen;\n",
              "}\n",
              "</style>\n",
              "<table id=\"T_9be0c\" class=\"dataframe\">\n",
              "  <thead>\n",
              "    <tr>\n",
              "      <th class=\"blank level0\" >&nbsp;</th>\n",
              "      <th id=\"T_9be0c_level0_col0\" class=\"col_heading level0 col0\" >Description</th>\n",
              "      <th id=\"T_9be0c_level0_col1\" class=\"col_heading level0 col1\" >Value</th>\n",
              "    </tr>\n",
              "  </thead>\n",
              "  <tbody>\n",
              "    <tr>\n",
              "      <th id=\"T_9be0c_level0_row0\" class=\"row_heading level0 row0\" >0</th>\n",
              "      <td id=\"T_9be0c_row0_col0\" class=\"data row0 col0\" >Session id</td>\n",
              "      <td id=\"T_9be0c_row0_col1\" class=\"data row0 col1\" >42</td>\n",
              "    </tr>\n",
              "    <tr>\n",
              "      <th id=\"T_9be0c_level0_row1\" class=\"row_heading level0 row1\" >1</th>\n",
              "      <td id=\"T_9be0c_row1_col0\" class=\"data row1 col0\" >Target</td>\n",
              "      <td id=\"T_9be0c_row1_col1\" class=\"data row1 col1\" >PAX fatalities</td>\n",
              "    </tr>\n",
              "    <tr>\n",
              "      <th id=\"T_9be0c_level0_row2\" class=\"row_heading level0 row2\" >2</th>\n",
              "      <td id=\"T_9be0c_row2_col0\" class=\"data row2 col0\" >Target type</td>\n",
              "      <td id=\"T_9be0c_row2_col1\" class=\"data row2 col1\" >Regression</td>\n",
              "    </tr>\n",
              "    <tr>\n",
              "      <th id=\"T_9be0c_level0_row3\" class=\"row_heading level0 row3\" >3</th>\n",
              "      <td id=\"T_9be0c_row3_col0\" class=\"data row3 col0\" >Original data shape</td>\n",
              "      <td id=\"T_9be0c_row3_col1\" class=\"data row3 col1\" >(27066, 13)</td>\n",
              "    </tr>\n",
              "    <tr>\n",
              "      <th id=\"T_9be0c_level0_row4\" class=\"row_heading level0 row4\" >4</th>\n",
              "      <td id=\"T_9be0c_row4_col0\" class=\"data row4 col0\" >Transformed data shape</td>\n",
              "      <td id=\"T_9be0c_row4_col1\" class=\"data row4 col1\" >(27066, 45)</td>\n",
              "    </tr>\n",
              "    <tr>\n",
              "      <th id=\"T_9be0c_level0_row5\" class=\"row_heading level0 row5\" >5</th>\n",
              "      <td id=\"T_9be0c_row5_col0\" class=\"data row5 col0\" >Transformed train set shape</td>\n",
              "      <td id=\"T_9be0c_row5_col1\" class=\"data row5 col1\" >(18946, 45)</td>\n",
              "    </tr>\n",
              "    <tr>\n",
              "      <th id=\"T_9be0c_level0_row6\" class=\"row_heading level0 row6\" >6</th>\n",
              "      <td id=\"T_9be0c_row6_col0\" class=\"data row6 col0\" >Transformed test set shape</td>\n",
              "      <td id=\"T_9be0c_row6_col1\" class=\"data row6 col1\" >(8120, 45)</td>\n",
              "    </tr>\n",
              "    <tr>\n",
              "      <th id=\"T_9be0c_level0_row7\" class=\"row_heading level0 row7\" >7</th>\n",
              "      <td id=\"T_9be0c_row7_col0\" class=\"data row7 col0\" >Ordinal features</td>\n",
              "      <td id=\"T_9be0c_row7_col1\" class=\"data row7 col1\" >1</td>\n",
              "    </tr>\n",
              "    <tr>\n",
              "      <th id=\"T_9be0c_level0_row8\" class=\"row_heading level0 row8\" >8</th>\n",
              "      <td id=\"T_9be0c_row8_col0\" class=\"data row8 col0\" >Numeric features</td>\n",
              "      <td id=\"T_9be0c_row8_col1\" class=\"data row8 col1\" >4</td>\n",
              "    </tr>\n",
              "    <tr>\n",
              "      <th id=\"T_9be0c_level0_row9\" class=\"row_heading level0 row9\" >9</th>\n",
              "      <td id=\"T_9be0c_row9_col0\" class=\"data row9 col0\" >Categorical features</td>\n",
              "      <td id=\"T_9be0c_row9_col1\" class=\"data row9 col1\" >8</td>\n",
              "    </tr>\n",
              "    <tr>\n",
              "      <th id=\"T_9be0c_level0_row10\" class=\"row_heading level0 row10\" >10</th>\n",
              "      <td id=\"T_9be0c_row10_col0\" class=\"data row10 col0\" >Preprocess</td>\n",
              "      <td id=\"T_9be0c_row10_col1\" class=\"data row10 col1\" >True</td>\n",
              "    </tr>\n",
              "    <tr>\n",
              "      <th id=\"T_9be0c_level0_row11\" class=\"row_heading level0 row11\" >11</th>\n",
              "      <td id=\"T_9be0c_row11_col0\" class=\"data row11 col0\" >Imputation type</td>\n",
              "      <td id=\"T_9be0c_row11_col1\" class=\"data row11 col1\" >simple</td>\n",
              "    </tr>\n",
              "    <tr>\n",
              "      <th id=\"T_9be0c_level0_row12\" class=\"row_heading level0 row12\" >12</th>\n",
              "      <td id=\"T_9be0c_row12_col0\" class=\"data row12 col0\" >Numeric imputation</td>\n",
              "      <td id=\"T_9be0c_row12_col1\" class=\"data row12 col1\" >mean</td>\n",
              "    </tr>\n",
              "    <tr>\n",
              "      <th id=\"T_9be0c_level0_row13\" class=\"row_heading level0 row13\" >13</th>\n",
              "      <td id=\"T_9be0c_row13_col0\" class=\"data row13 col0\" >Categorical imputation</td>\n",
              "      <td id=\"T_9be0c_row13_col1\" class=\"data row13 col1\" >mode</td>\n",
              "    </tr>\n",
              "    <tr>\n",
              "      <th id=\"T_9be0c_level0_row14\" class=\"row_heading level0 row14\" >14</th>\n",
              "      <td id=\"T_9be0c_row14_col0\" class=\"data row14 col0\" >Maximum one-hot encoding</td>\n",
              "      <td id=\"T_9be0c_row14_col1\" class=\"data row14 col1\" >25</td>\n",
              "    </tr>\n",
              "    <tr>\n",
              "      <th id=\"T_9be0c_level0_row15\" class=\"row_heading level0 row15\" >15</th>\n",
              "      <td id=\"T_9be0c_row15_col0\" class=\"data row15 col0\" >Encoding method</td>\n",
              "      <td id=\"T_9be0c_row15_col1\" class=\"data row15 col1\" >None</td>\n",
              "    </tr>\n",
              "    <tr>\n",
              "      <th id=\"T_9be0c_level0_row16\" class=\"row_heading level0 row16\" >16</th>\n",
              "      <td id=\"T_9be0c_row16_col0\" class=\"data row16 col0\" >Fold Generator</td>\n",
              "      <td id=\"T_9be0c_row16_col1\" class=\"data row16 col1\" >KFold</td>\n",
              "    </tr>\n",
              "    <tr>\n",
              "      <th id=\"T_9be0c_level0_row17\" class=\"row_heading level0 row17\" >17</th>\n",
              "      <td id=\"T_9be0c_row17_col0\" class=\"data row17 col0\" >Fold Number</td>\n",
              "      <td id=\"T_9be0c_row17_col1\" class=\"data row17 col1\" >10</td>\n",
              "    </tr>\n",
              "    <tr>\n",
              "      <th id=\"T_9be0c_level0_row18\" class=\"row_heading level0 row18\" >18</th>\n",
              "      <td id=\"T_9be0c_row18_col0\" class=\"data row18 col0\" >CPU Jobs</td>\n",
              "      <td id=\"T_9be0c_row18_col1\" class=\"data row18 col1\" >-1</td>\n",
              "    </tr>\n",
              "    <tr>\n",
              "      <th id=\"T_9be0c_level0_row19\" class=\"row_heading level0 row19\" >19</th>\n",
              "      <td id=\"T_9be0c_row19_col0\" class=\"data row19 col0\" >Use GPU</td>\n",
              "      <td id=\"T_9be0c_row19_col1\" class=\"data row19 col1\" >False</td>\n",
              "    </tr>\n",
              "    <tr>\n",
              "      <th id=\"T_9be0c_level0_row20\" class=\"row_heading level0 row20\" >20</th>\n",
              "      <td id=\"T_9be0c_row20_col0\" class=\"data row20 col0\" >Log Experiment</td>\n",
              "      <td id=\"T_9be0c_row20_col1\" class=\"data row20 col1\" >False</td>\n",
              "    </tr>\n",
              "    <tr>\n",
              "      <th id=\"T_9be0c_level0_row21\" class=\"row_heading level0 row21\" >21</th>\n",
              "      <td id=\"T_9be0c_row21_col0\" class=\"data row21 col0\" >Experiment Name</td>\n",
              "      <td id=\"T_9be0c_row21_col1\" class=\"data row21 col1\" >reg-default-name</td>\n",
              "    </tr>\n",
              "    <tr>\n",
              "      <th id=\"T_9be0c_level0_row22\" class=\"row_heading level0 row22\" >22</th>\n",
              "      <td id=\"T_9be0c_row22_col0\" class=\"data row22 col0\" >USI</td>\n",
              "      <td id=\"T_9be0c_row22_col1\" class=\"data row22 col1\" >1a86</td>\n",
              "    </tr>\n",
              "  </tbody>\n",
              "</table>\n"
            ]
          },
          "metadata": {}
        }
      ]
    },
    {
      "cell_type": "code",
      "source": [
        "best = compare_models()"
      ],
      "metadata": {
        "colab": {
          "base_uri": "https://localhost:8080/",
          "height": 645,
          "referenced_widgets": [
            "ad5160395d8a4b2589845a4bb84abbbf",
            "e37902c159e54ab2bb4ca4b5c4f1e749",
            "8d095fa7b182400983b0acbf78df82c1",
            "42ea951bbc73489ca91f88140a88e787",
            "07f9ef62a5954cc5a933dee9c2592e23",
            "7a6b336889b749cc9433416ceedd91c7",
            "847e494770964efbaf29831e10ff5b72",
            "b6ee5384f27f49f5ba93293badb3f6f3",
            "072a17428e5845c89b57c7af6e6a3d83",
            "c971451f32174a84844d9a422a0ca0a9",
            "61f73177237b4d5e94f81dbca90ff90b"
          ]
        },
        "id": "T_4OOcueUFtK",
        "outputId": "8a118b56-c055-4360-9698-95911ef43b91"
      },
      "execution_count": 9,
      "outputs": [
        {
          "output_type": "display_data",
          "data": {
            "text/plain": [
              "<IPython.core.display.HTML object>"
            ],
            "text/html": []
          },
          "metadata": {}
        },
        {
          "output_type": "display_data",
          "data": {
            "text/plain": [
              "<pandas.io.formats.style.Styler at 0x7fa2ac266410>"
            ],
            "text/html": [
              "<style type=\"text/css\">\n",
              "#T_58269 th {\n",
              "  text-align: left;\n",
              "}\n",
              "#T_58269_row0_col0, #T_58269_row0_col1, #T_58269_row0_col5, #T_58269_row0_col6, #T_58269_row1_col0, #T_58269_row1_col2, #T_58269_row1_col3, #T_58269_row1_col4, #T_58269_row2_col0, #T_58269_row2_col1, #T_58269_row2_col2, #T_58269_row2_col3, #T_58269_row2_col4, #T_58269_row2_col5, #T_58269_row2_col6, #T_58269_row3_col0, #T_58269_row3_col1, #T_58269_row3_col2, #T_58269_row3_col3, #T_58269_row3_col4, #T_58269_row3_col5, #T_58269_row3_col6, #T_58269_row4_col0, #T_58269_row4_col1, #T_58269_row4_col2, #T_58269_row4_col3, #T_58269_row4_col4, #T_58269_row4_col5, #T_58269_row4_col6, #T_58269_row5_col0, #T_58269_row5_col1, #T_58269_row5_col2, #T_58269_row5_col3, #T_58269_row5_col4, #T_58269_row5_col5, #T_58269_row5_col6, #T_58269_row6_col0, #T_58269_row6_col1, #T_58269_row6_col2, #T_58269_row6_col3, #T_58269_row6_col4, #T_58269_row6_col5, #T_58269_row6_col6, #T_58269_row7_col0, #T_58269_row7_col1, #T_58269_row7_col2, #T_58269_row7_col3, #T_58269_row7_col4, #T_58269_row7_col5, #T_58269_row7_col6, #T_58269_row8_col0, #T_58269_row8_col1, #T_58269_row8_col2, #T_58269_row8_col3, #T_58269_row8_col4, #T_58269_row8_col5, #T_58269_row8_col6, #T_58269_row9_col0, #T_58269_row9_col1, #T_58269_row9_col2, #T_58269_row9_col3, #T_58269_row9_col4, #T_58269_row9_col5, #T_58269_row9_col6, #T_58269_row10_col0, #T_58269_row10_col1, #T_58269_row10_col2, #T_58269_row10_col3, #T_58269_row10_col4, #T_58269_row10_col5, #T_58269_row10_col6, #T_58269_row11_col0, #T_58269_row11_col1, #T_58269_row11_col2, #T_58269_row11_col3, #T_58269_row11_col4, #T_58269_row11_col5, #T_58269_row11_col6, #T_58269_row12_col0, #T_58269_row12_col1, #T_58269_row12_col2, #T_58269_row12_col3, #T_58269_row12_col4, #T_58269_row12_col5, #T_58269_row12_col6, #T_58269_row13_col0, #T_58269_row13_col1, #T_58269_row13_col2, #T_58269_row13_col3, #T_58269_row13_col4, #T_58269_row13_col5, #T_58269_row13_col6, #T_58269_row14_col0, #T_58269_row14_col1, #T_58269_row14_col2, #T_58269_row14_col3, #T_58269_row14_col4, #T_58269_row14_col5, #T_58269_row14_col6, #T_58269_row15_col0, #T_58269_row15_col1, #T_58269_row15_col2, #T_58269_row15_col3, #T_58269_row15_col4, #T_58269_row15_col5, #T_58269_row15_col6, #T_58269_row16_col0, #T_58269_row16_col1, #T_58269_row16_col2, #T_58269_row16_col3, #T_58269_row16_col4, #T_58269_row16_col5, #T_58269_row16_col6, #T_58269_row17_col0, #T_58269_row17_col1, #T_58269_row17_col2, #T_58269_row17_col3, #T_58269_row17_col4, #T_58269_row17_col5, #T_58269_row17_col6, #T_58269_row18_col0, #T_58269_row18_col1, #T_58269_row18_col2, #T_58269_row18_col3, #T_58269_row18_col4, #T_58269_row18_col5, #T_58269_row18_col6 {\n",
              "  text-align: left;\n",
              "}\n",
              "#T_58269_row0_col2, #T_58269_row0_col3, #T_58269_row0_col4, #T_58269_row1_col1, #T_58269_row1_col5, #T_58269_row1_col6 {\n",
              "  text-align: left;\n",
              "  background-color: yellow;\n",
              "}\n",
              "#T_58269_row0_col7, #T_58269_row1_col7, #T_58269_row2_col7, #T_58269_row4_col7, #T_58269_row5_col7, #T_58269_row6_col7, #T_58269_row7_col7, #T_58269_row8_col7, #T_58269_row9_col7, #T_58269_row10_col7, #T_58269_row11_col7, #T_58269_row12_col7, #T_58269_row13_col7, #T_58269_row14_col7, #T_58269_row15_col7, #T_58269_row16_col7, #T_58269_row17_col7, #T_58269_row18_col7 {\n",
              "  text-align: left;\n",
              "  background-color: lightgrey;\n",
              "}\n",
              "#T_58269_row3_col7 {\n",
              "  text-align: left;\n",
              "  background-color: yellow;\n",
              "  background-color: lightgrey;\n",
              "}\n",
              "</style>\n",
              "<table id=\"T_58269\" class=\"dataframe\">\n",
              "  <thead>\n",
              "    <tr>\n",
              "      <th class=\"blank level0\" >&nbsp;</th>\n",
              "      <th id=\"T_58269_level0_col0\" class=\"col_heading level0 col0\" >Model</th>\n",
              "      <th id=\"T_58269_level0_col1\" class=\"col_heading level0 col1\" >MAE</th>\n",
              "      <th id=\"T_58269_level0_col2\" class=\"col_heading level0 col2\" >MSE</th>\n",
              "      <th id=\"T_58269_level0_col3\" class=\"col_heading level0 col3\" >RMSE</th>\n",
              "      <th id=\"T_58269_level0_col4\" class=\"col_heading level0 col4\" >R2</th>\n",
              "      <th id=\"T_58269_level0_col5\" class=\"col_heading level0 col5\" >RMSLE</th>\n",
              "      <th id=\"T_58269_level0_col6\" class=\"col_heading level0 col6\" >MAPE</th>\n",
              "      <th id=\"T_58269_level0_col7\" class=\"col_heading level0 col7\" >TT (Sec)</th>\n",
              "    </tr>\n",
              "  </thead>\n",
              "  <tbody>\n",
              "    <tr>\n",
              "      <th id=\"T_58269_level0_row0\" class=\"row_heading level0 row0\" >knn</th>\n",
              "      <td id=\"T_58269_row0_col0\" class=\"data row0 col0\" >K Neighbors Regressor</td>\n",
              "      <td id=\"T_58269_row0_col1\" class=\"data row0 col1\" >0.2895</td>\n",
              "      <td id=\"T_58269_row0_col2\" class=\"data row0 col2\" >5.3964</td>\n",
              "      <td id=\"T_58269_row0_col3\" class=\"data row0 col3\" >1.9241</td>\n",
              "      <td id=\"T_58269_row0_col4\" class=\"data row0 col4\" >0.9817</td>\n",
              "      <td id=\"T_58269_row0_col5\" class=\"data row0 col5\" >0.1910</td>\n",
              "      <td id=\"T_58269_row0_col6\" class=\"data row0 col6\" >0.1606</td>\n",
              "      <td id=\"T_58269_row0_col7\" class=\"data row0 col7\" >1.0630</td>\n",
              "    </tr>\n",
              "    <tr>\n",
              "      <th id=\"T_58269_level0_row1\" class=\"row_heading level0 row1\" >huber</th>\n",
              "      <td id=\"T_58269_row1_col0\" class=\"data row1 col0\" >Huber Regressor</td>\n",
              "      <td id=\"T_58269_row1_col1\" class=\"data row1 col1\" >0.1382</td>\n",
              "      <td id=\"T_58269_row1_col2\" class=\"data row1 col2\" >9.1423</td>\n",
              "      <td id=\"T_58269_row1_col3\" class=\"data row1 col3\" >2.4273</td>\n",
              "      <td id=\"T_58269_row1_col4\" class=\"data row1 col4\" >0.9628</td>\n",
              "      <td id=\"T_58269_row1_col5\" class=\"data row1 col5\" >0.1774</td>\n",
              "      <td id=\"T_58269_row1_col6\" class=\"data row1 col6\" >0.0397</td>\n",
              "      <td id=\"T_58269_row1_col7\" class=\"data row1 col7\" >1.6610</td>\n",
              "    </tr>\n",
              "    <tr>\n",
              "      <th id=\"T_58269_level0_row2\" class=\"row_heading level0 row2\" >lasso</th>\n",
              "      <td id=\"T_58269_row2_col0\" class=\"data row2 col0\" >Lasso Regression</td>\n",
              "      <td id=\"T_58269_row2_col1\" class=\"data row2 col1\" >0.7703</td>\n",
              "      <td id=\"T_58269_row2_col2\" class=\"data row2 col2\" >9.2939</td>\n",
              "      <td id=\"T_58269_row2_col3\" class=\"data row2 col3\" >2.6690</td>\n",
              "      <td id=\"T_58269_row2_col4\" class=\"data row2 col4\" >0.9621</td>\n",
              "      <td id=\"T_58269_row2_col5\" class=\"data row2 col5\" >0.4726</td>\n",
              "      <td id=\"T_58269_row2_col6\" class=\"data row2 col6\" >0.1766</td>\n",
              "      <td id=\"T_58269_row2_col7\" class=\"data row2 col7\" >1.3240</td>\n",
              "    </tr>\n",
              "    <tr>\n",
              "      <th id=\"T_58269_level0_row3\" class=\"row_heading level0 row3\" >llar</th>\n",
              "      <td id=\"T_58269_row3_col0\" class=\"data row3 col0\" >Lasso Least Angle Regression</td>\n",
              "      <td id=\"T_58269_row3_col1\" class=\"data row3 col1\" >0.7702</td>\n",
              "      <td id=\"T_58269_row3_col2\" class=\"data row3 col2\" >9.2935</td>\n",
              "      <td id=\"T_58269_row3_col3\" class=\"data row3 col3\" >2.6689</td>\n",
              "      <td id=\"T_58269_row3_col4\" class=\"data row3 col4\" >0.9621</td>\n",
              "      <td id=\"T_58269_row3_col5\" class=\"data row3 col5\" >0.4726</td>\n",
              "      <td id=\"T_58269_row3_col6\" class=\"data row3 col6\" >0.1766</td>\n",
              "      <td id=\"T_58269_row3_col7\" class=\"data row3 col7\" >0.6470</td>\n",
              "    </tr>\n",
              "    <tr>\n",
              "      <th id=\"T_58269_level0_row4\" class=\"row_heading level0 row4\" >par</th>\n",
              "      <td id=\"T_58269_row4_col0\" class=\"data row4 col0\" >Passive Aggressive Regressor</td>\n",
              "      <td id=\"T_58269_row4_col1\" class=\"data row4 col1\" >0.3826</td>\n",
              "      <td id=\"T_58269_row4_col2\" class=\"data row4 col2\" >9.4797</td>\n",
              "      <td id=\"T_58269_row4_col3\" class=\"data row4 col3\" >2.6034</td>\n",
              "      <td id=\"T_58269_row4_col4\" class=\"data row4 col4\" >0.9619</td>\n",
              "      <td id=\"T_58269_row4_col5\" class=\"data row4 col5\" >0.2470</td>\n",
              "      <td id=\"T_58269_row4_col6\" class=\"data row4 col6\" >0.0993</td>\n",
              "      <td id=\"T_58269_row4_col7\" class=\"data row4 col7\" >0.9370</td>\n",
              "    </tr>\n",
              "    <tr>\n",
              "      <th id=\"T_58269_level0_row5\" class=\"row_heading level0 row5\" >en</th>\n",
              "      <td id=\"T_58269_row5_col0\" class=\"data row5 col0\" >Elastic Net</td>\n",
              "      <td id=\"T_58269_row5_col1\" class=\"data row5 col1\" >0.8072</td>\n",
              "      <td id=\"T_58269_row5_col2\" class=\"data row5 col2\" >9.9757</td>\n",
              "      <td id=\"T_58269_row5_col3\" class=\"data row5 col3\" >2.8561</td>\n",
              "      <td id=\"T_58269_row5_col4\" class=\"data row5 col4\" >0.9592</td>\n",
              "      <td id=\"T_58269_row5_col5\" class=\"data row5 col5\" >0.4610</td>\n",
              "      <td id=\"T_58269_row5_col6\" class=\"data row5 col6\" >0.1843</td>\n",
              "      <td id=\"T_58269_row5_col7\" class=\"data row5 col7\" >0.6790</td>\n",
              "    </tr>\n",
              "    <tr>\n",
              "      <th id=\"T_58269_level0_row6\" class=\"row_heading level0 row6\" >lr</th>\n",
              "      <td id=\"T_58269_row6_col0\" class=\"data row6 col0\" >Linear Regression</td>\n",
              "      <td id=\"T_58269_row6_col1\" class=\"data row6 col1\" >1.0059</td>\n",
              "      <td id=\"T_58269_row6_col2\" class=\"data row6 col2\" >13.0402</td>\n",
              "      <td id=\"T_58269_row6_col3\" class=\"data row6 col3\" >3.4347</td>\n",
              "      <td id=\"T_58269_row6_col4\" class=\"data row6 col4\" >0.9457</td>\n",
              "      <td id=\"T_58269_row6_col5\" class=\"data row6 col5\" >0.4723</td>\n",
              "      <td id=\"T_58269_row6_col6\" class=\"data row6 col6\" >0.2832</td>\n",
              "      <td id=\"T_58269_row6_col7\" class=\"data row6 col7\" >1.5410</td>\n",
              "    </tr>\n",
              "    <tr>\n",
              "      <th id=\"T_58269_level0_row7\" class=\"row_heading level0 row7\" >ridge</th>\n",
              "      <td id=\"T_58269_row7_col0\" class=\"data row7 col0\" >Ridge Regression</td>\n",
              "      <td id=\"T_58269_row7_col1\" class=\"data row7 col1\" >1.0056</td>\n",
              "      <td id=\"T_58269_row7_col2\" class=\"data row7 col2\" >13.0405</td>\n",
              "      <td id=\"T_58269_row7_col3\" class=\"data row7 col3\" >3.4348</td>\n",
              "      <td id=\"T_58269_row7_col4\" class=\"data row7 col4\" >0.9457</td>\n",
              "      <td id=\"T_58269_row7_col5\" class=\"data row7 col5\" >0.4722</td>\n",
              "      <td id=\"T_58269_row7_col6\" class=\"data row7 col6\" >0.2830</td>\n",
              "      <td id=\"T_58269_row7_col7\" class=\"data row7 col7\" >0.8260</td>\n",
              "    </tr>\n",
              "    <tr>\n",
              "      <th id=\"T_58269_level0_row8\" class=\"row_heading level0 row8\" >br</th>\n",
              "      <td id=\"T_58269_row8_col0\" class=\"data row8 col0\" >Bayesian Ridge</td>\n",
              "      <td id=\"T_58269_row8_col1\" class=\"data row8 col1\" >1.0021</td>\n",
              "      <td id=\"T_58269_row8_col2\" class=\"data row8 col2\" >13.0479</td>\n",
              "      <td id=\"T_58269_row8_col3\" class=\"data row8 col3\" >3.4358</td>\n",
              "      <td id=\"T_58269_row8_col4\" class=\"data row8 col4\" >0.9456</td>\n",
              "      <td id=\"T_58269_row8_col5\" class=\"data row8 col5\" >0.4700</td>\n",
              "      <td id=\"T_58269_row8_col6\" class=\"data row8 col6\" >0.2805</td>\n",
              "      <td id=\"T_58269_row8_col7\" class=\"data row8 col7\" >0.6620</td>\n",
              "    </tr>\n",
              "    <tr>\n",
              "      <th id=\"T_58269_level0_row9\" class=\"row_heading level0 row9\" >lightgbm</th>\n",
              "      <td id=\"T_58269_row9_col0\" class=\"data row9 col0\" >Light Gradient Boosting Machine</td>\n",
              "      <td id=\"T_58269_row9_col1\" class=\"data row9 col1\" >0.8271</td>\n",
              "      <td id=\"T_58269_row9_col2\" class=\"data row9 col2\" >14.4886</td>\n",
              "      <td id=\"T_58269_row9_col3\" class=\"data row9 col3\" >3.5590</td>\n",
              "      <td id=\"T_58269_row9_col4\" class=\"data row9 col4\" >0.9455</td>\n",
              "      <td id=\"T_58269_row9_col5\" class=\"data row9 col5\" >0.2289</td>\n",
              "      <td id=\"T_58269_row9_col6\" class=\"data row9 col6\" >0.2565</td>\n",
              "      <td id=\"T_58269_row9_col7\" class=\"data row9 col7\" >1.0910</td>\n",
              "    </tr>\n",
              "    <tr>\n",
              "      <th id=\"T_58269_level0_row10\" class=\"row_heading level0 row10\" >omp</th>\n",
              "      <td id=\"T_58269_row10_col0\" class=\"data row10 col0\" >Orthogonal Matching Pursuit</td>\n",
              "      <td id=\"T_58269_row10_col1\" class=\"data row10 col1\" >0.9521</td>\n",
              "      <td id=\"T_58269_row10_col2\" class=\"data row10 col2\" >13.7816</td>\n",
              "      <td id=\"T_58269_row10_col3\" class=\"data row10 col3\" >3.5402</td>\n",
              "      <td id=\"T_58269_row10_col4\" class=\"data row10 col4\" >0.9424</td>\n",
              "      <td id=\"T_58269_row10_col5\" class=\"data row10 col5\" >0.4253</td>\n",
              "      <td id=\"T_58269_row10_col6\" class=\"data row10 col6\" >0.2427</td>\n",
              "      <td id=\"T_58269_row10_col7\" class=\"data row10 col7\" >1.0070</td>\n",
              "    </tr>\n",
              "    <tr>\n",
              "      <th id=\"T_58269_level0_row11\" class=\"row_heading level0 row11\" >rf</th>\n",
              "      <td id=\"T_58269_row11_col0\" class=\"data row11 col0\" >Random Forest Regressor</td>\n",
              "      <td id=\"T_58269_row11_col1\" class=\"data row11 col1\" >0.8292</td>\n",
              "      <td id=\"T_58269_row11_col2\" class=\"data row11 col2\" >21.9820</td>\n",
              "      <td id=\"T_58269_row11_col3\" class=\"data row11 col3\" >4.5470</td>\n",
              "      <td id=\"T_58269_row11_col4\" class=\"data row11 col4\" >0.9112</td>\n",
              "      <td id=\"T_58269_row11_col5\" class=\"data row11 col5\" >0.2213</td>\n",
              "      <td id=\"T_58269_row11_col6\" class=\"data row11 col6\" >0.1879</td>\n",
              "      <td id=\"T_58269_row11_col7\" class=\"data row11 col7\" >5.3640</td>\n",
              "    </tr>\n",
              "    <tr>\n",
              "      <th id=\"T_58269_level0_row12\" class=\"row_heading level0 row12\" >ada</th>\n",
              "      <td id=\"T_58269_row12_col0\" class=\"data row12 col0\" >AdaBoost Regressor</td>\n",
              "      <td id=\"T_58269_row12_col1\" class=\"data row12 col1\" >3.1770</td>\n",
              "      <td id=\"T_58269_row12_col2\" class=\"data row12 col2\" >37.9363</td>\n",
              "      <td id=\"T_58269_row12_col3\" class=\"data row12 col3\" >6.0560</td>\n",
              "      <td id=\"T_58269_row12_col4\" class=\"data row12 col4\" >0.8449</td>\n",
              "      <td id=\"T_58269_row12_col5\" class=\"data row12 col5\" >1.0229</td>\n",
              "      <td id=\"T_58269_row12_col6\" class=\"data row12 col6\" >0.6056</td>\n",
              "      <td id=\"T_58269_row12_col7\" class=\"data row12 col7\" >2.0740</td>\n",
              "    </tr>\n",
              "    <tr>\n",
              "      <th id=\"T_58269_level0_row13\" class=\"row_heading level0 row13\" >et</th>\n",
              "      <td id=\"T_58269_row13_col0\" class=\"data row13 col0\" >Extra Trees Regressor</td>\n",
              "      <td id=\"T_58269_row13_col1\" class=\"data row13 col1\" >1.1577</td>\n",
              "      <td id=\"T_58269_row13_col2\" class=\"data row13 col2\" >49.0424</td>\n",
              "      <td id=\"T_58269_row13_col3\" class=\"data row13 col3\" >6.8871</td>\n",
              "      <td id=\"T_58269_row13_col4\" class=\"data row13 col4\" >0.8036</td>\n",
              "      <td id=\"T_58269_row13_col5\" class=\"data row13 col5\" >0.1833</td>\n",
              "      <td id=\"T_58269_row13_col6\" class=\"data row13 col6\" >0.1411</td>\n",
              "      <td id=\"T_58269_row13_col7\" class=\"data row13 col7\" >5.0330</td>\n",
              "    </tr>\n",
              "    <tr>\n",
              "      <th id=\"T_58269_level0_row14\" class=\"row_heading level0 row14\" >xgboost</th>\n",
              "      <td id=\"T_58269_row14_col0\" class=\"data row14 col0\" >Extreme Gradient Boosting</td>\n",
              "      <td id=\"T_58269_row14_col1\" class=\"data row14 col1\" >1.2241</td>\n",
              "      <td id=\"T_58269_row14_col2\" class=\"data row14 col2\" >48.3701</td>\n",
              "      <td id=\"T_58269_row14_col3\" class=\"data row14 col3\" >6.7258</td>\n",
              "      <td id=\"T_58269_row14_col4\" class=\"data row14 col4\" >0.7994</td>\n",
              "      <td id=\"T_58269_row14_col5\" class=\"data row14 col5\" >0.2590</td>\n",
              "      <td id=\"T_58269_row14_col6\" class=\"data row14 col6\" >0.2299</td>\n",
              "      <td id=\"T_58269_row14_col7\" class=\"data row14 col7\" >4.4600</td>\n",
              "    </tr>\n",
              "    <tr>\n",
              "      <th id=\"T_58269_level0_row15\" class=\"row_heading level0 row15\" >dt</th>\n",
              "      <td id=\"T_58269_row15_col0\" class=\"data row15 col0\" >Decision Tree Regressor</td>\n",
              "      <td id=\"T_58269_row15_col1\" class=\"data row15 col1\" >1.0617</td>\n",
              "      <td id=\"T_58269_row15_col2\" class=\"data row15 col2\" >53.5794</td>\n",
              "      <td id=\"T_58269_row15_col3\" class=\"data row15 col3\" >7.2318</td>\n",
              "      <td id=\"T_58269_row15_col4\" class=\"data row15 col4\" >0.7743</td>\n",
              "      <td id=\"T_58269_row15_col5\" class=\"data row15 col5\" >0.4629</td>\n",
              "      <td id=\"T_58269_row15_col6\" class=\"data row15 col6\" >0.2231</td>\n",
              "      <td id=\"T_58269_row15_col7\" class=\"data row15 col7\" >0.6920</td>\n",
              "    </tr>\n",
              "    <tr>\n",
              "      <th id=\"T_58269_level0_row16\" class=\"row_heading level0 row16\" >gbr</th>\n",
              "      <td id=\"T_58269_row16_col0\" class=\"data row16 col0\" >Gradient Boosting Regressor</td>\n",
              "      <td id=\"T_58269_row16_col1\" class=\"data row16 col1\" >1.9158</td>\n",
              "      <td id=\"T_58269_row16_col2\" class=\"data row16 col2\" >65.3010</td>\n",
              "      <td id=\"T_58269_row16_col3\" class=\"data row16 col3\" >7.9777</td>\n",
              "      <td id=\"T_58269_row16_col4\" class=\"data row16 col4\" >0.7258</td>\n",
              "      <td id=\"T_58269_row16_col5\" class=\"data row16 col5\" >0.4743</td>\n",
              "      <td id=\"T_58269_row16_col6\" class=\"data row16 col6\" >0.3412</td>\n",
              "      <td id=\"T_58269_row16_col7\" class=\"data row16 col7\" >3.1990</td>\n",
              "    </tr>\n",
              "    <tr>\n",
              "      <th id=\"T_58269_level0_row17\" class=\"row_heading level0 row17\" >dummy</th>\n",
              "      <td id=\"T_58269_row17_col0\" class=\"data row17 col0\" >Dummy Regressor</td>\n",
              "      <td id=\"T_58269_row17_col1\" class=\"data row17 col1\" >5.9886</td>\n",
              "      <td id=\"T_58269_row17_col2\" class=\"data row17 col2\" >244.6100</td>\n",
              "      <td id=\"T_58269_row17_col3\" class=\"data row17 col3\" >15.5149</td>\n",
              "      <td id=\"T_58269_row17_col4\" class=\"data row17 col4\" >-0.0006</td>\n",
              "      <td id=\"T_58269_row17_col5\" class=\"data row17 col5\" >1.4621</td>\n",
              "      <td id=\"T_58269_row17_col6\" class=\"data row17 col6\" >1.0588</td>\n",
              "      <td id=\"T_58269_row17_col7\" class=\"data row17 col7\" >0.8760</td>\n",
              "    </tr>\n",
              "    <tr>\n",
              "      <th id=\"T_58269_level0_row18\" class=\"row_heading level0 row18\" >lar</th>\n",
              "      <td id=\"T_58269_row18_col0\" class=\"data row18 col0\" >Least Angle Regression</td>\n",
              "      <td id=\"T_58269_row18_col1\" class=\"data row18 col1\" >20.4639</td>\n",
              "      <td id=\"T_58269_row18_col2\" class=\"data row18 col2\" >6227.3801</td>\n",
              "      <td id=\"T_58269_row18_col3\" class=\"data row18 col3\" >28.0999</td>\n",
              "      <td id=\"T_58269_row18_col4\" class=\"data row18 col4\" >-31.6376</td>\n",
              "      <td id=\"T_58269_row18_col5\" class=\"data row18 col5\" >0.8957</td>\n",
              "      <td id=\"T_58269_row18_col6\" class=\"data row18 col6\" >9.2374</td>\n",
              "      <td id=\"T_58269_row18_col7\" class=\"data row18 col7\" >1.0640</td>\n",
              "    </tr>\n",
              "  </tbody>\n",
              "</table>\n"
            ]
          },
          "metadata": {}
        },
        {
          "output_type": "display_data",
          "data": {
            "text/plain": [
              "Processing:   0%|          | 0/81 [00:00<?, ?it/s]"
            ],
            "application/vnd.jupyter.widget-view+json": {
              "version_major": 2,
              "version_minor": 0,
              "model_id": "ad5160395d8a4b2589845a4bb84abbbf"
            }
          },
          "metadata": {
            "application/vnd.jupyter.widget-view+json": {
              "colab": {
                "custom_widget_manager": {
                  "url": "https://ssl.gstatic.com/colaboratory-static/widgets/colab-cdn-widget-manager/b3e629b1971e1542/manager.min.js"
                }
              }
            }
          }
        },
        {
          "output_type": "display_data",
          "data": {
            "text/plain": [
              "<IPython.core.display.HTML object>"
            ],
            "text/html": []
          },
          "metadata": {}
        }
      ]
    },
    {
      "cell_type": "code",
      "source": [
        "print(best)"
      ],
      "metadata": {
        "colab": {
          "base_uri": "https://localhost:8080/"
        },
        "id": "awV9D8-oVHgv",
        "outputId": "ae2d1334-f664-41c8-c4a2-ef7e3b8dc17b"
      },
      "execution_count": 10,
      "outputs": [
        {
          "output_type": "stream",
          "name": "stdout",
          "text": [
            "KNeighborsRegressor(n_jobs=-1)\n"
          ]
        }
      ]
    },
    {
      "cell_type": "code",
      "source": [
        "tuned_model = tune_model(best,n_iter=20, fold = 3,choose_better = True,optimize = 'R2')"
      ],
      "metadata": {
        "colab": {
          "base_uri": "https://localhost:8080/",
          "height": 255,
          "referenced_widgets": [
            "dc30c642bde345c890d3bbc0a5915782",
            "b8aa6e567b7b451a91dd961225a2955e",
            "6a53d5f71b944c7f8667f3921169ff11",
            "ce77bae9ea6646358c22b385859ab5ae",
            "8941e8a86e0149f4b77d6ade64eacc7a",
            "e931e021f8d34826b050746117979323",
            "654c756b6ad845f5ab3bacd4a0f80a8e",
            "a6991d2d7b8540969dc6f42b6c0faecf",
            "5913cf1c0e09459c82c6b87efe2fb941",
            "709d3e452007412c83f79667d5775df0",
            "35b8c9de3c594e27b7c8a516a64ef9b6"
          ]
        },
        "id": "gXxNvkeRV_wP",
        "outputId": "73249476-de2f-4ed2-c902-c503d6330b35"
      },
      "execution_count": 14,
      "outputs": [
        {
          "output_type": "display_data",
          "data": {
            "text/plain": [
              "<IPython.core.display.HTML object>"
            ],
            "text/html": []
          },
          "metadata": {}
        },
        {
          "output_type": "display_data",
          "data": {
            "text/plain": [
              "<pandas.io.formats.style.Styler at 0x7fa2ac265d50>"
            ],
            "text/html": [
              "<style type=\"text/css\">\n",
              "#T_520e4_row3_col0, #T_520e4_row3_col1, #T_520e4_row3_col2, #T_520e4_row3_col3, #T_520e4_row3_col4, #T_520e4_row3_col5 {\n",
              "  background: yellow;\n",
              "}\n",
              "</style>\n",
              "<table id=\"T_520e4\" class=\"dataframe\">\n",
              "  <thead>\n",
              "    <tr>\n",
              "      <th class=\"blank level0\" >&nbsp;</th>\n",
              "      <th id=\"T_520e4_level0_col0\" class=\"col_heading level0 col0\" >MAE</th>\n",
              "      <th id=\"T_520e4_level0_col1\" class=\"col_heading level0 col1\" >MSE</th>\n",
              "      <th id=\"T_520e4_level0_col2\" class=\"col_heading level0 col2\" >RMSE</th>\n",
              "      <th id=\"T_520e4_level0_col3\" class=\"col_heading level0 col3\" >R2</th>\n",
              "      <th id=\"T_520e4_level0_col4\" class=\"col_heading level0 col4\" >RMSLE</th>\n",
              "      <th id=\"T_520e4_level0_col5\" class=\"col_heading level0 col5\" >MAPE</th>\n",
              "    </tr>\n",
              "    <tr>\n",
              "      <th class=\"index_name level0\" >Fold</th>\n",
              "      <th class=\"blank col0\" >&nbsp;</th>\n",
              "      <th class=\"blank col1\" >&nbsp;</th>\n",
              "      <th class=\"blank col2\" >&nbsp;</th>\n",
              "      <th class=\"blank col3\" >&nbsp;</th>\n",
              "      <th class=\"blank col4\" >&nbsp;</th>\n",
              "      <th class=\"blank col5\" >&nbsp;</th>\n",
              "    </tr>\n",
              "  </thead>\n",
              "  <tbody>\n",
              "    <tr>\n",
              "      <th id=\"T_520e4_level0_row0\" class=\"row_heading level0 row0\" >0</th>\n",
              "      <td id=\"T_520e4_row0_col0\" class=\"data row0 col0\" >0.3129</td>\n",
              "      <td id=\"T_520e4_row0_col1\" class=\"data row0 col1\" >9.8544</td>\n",
              "      <td id=\"T_520e4_row0_col2\" class=\"data row0 col2\" >3.1392</td>\n",
              "      <td id=\"T_520e4_row0_col3\" class=\"data row0 col3\" >0.9648</td>\n",
              "      <td id=\"T_520e4_row0_col4\" class=\"data row0 col4\" >0.1995</td>\n",
              "      <td id=\"T_520e4_row0_col5\" class=\"data row0 col5\" >0.1690</td>\n",
              "    </tr>\n",
              "    <tr>\n",
              "      <th id=\"T_520e4_level0_row1\" class=\"row_heading level0 row1\" >1</th>\n",
              "      <td id=\"T_520e4_row1_col0\" class=\"data row1 col0\" >0.3250</td>\n",
              "      <td id=\"T_520e4_row1_col1\" class=\"data row1 col1\" >3.9612</td>\n",
              "      <td id=\"T_520e4_row1_col2\" class=\"data row1 col2\" >1.9903</td>\n",
              "      <td id=\"T_520e4_row1_col3\" class=\"data row1 col3\" >0.9846</td>\n",
              "      <td id=\"T_520e4_row1_col4\" class=\"data row1 col4\" >0.2002</td>\n",
              "      <td id=\"T_520e4_row1_col5\" class=\"data row1 col5\" >0.1743</td>\n",
              "    </tr>\n",
              "    <tr>\n",
              "      <th id=\"T_520e4_level0_row2\" class=\"row_heading level0 row2\" >2</th>\n",
              "      <td id=\"T_520e4_row2_col0\" class=\"data row2 col0\" >0.2928</td>\n",
              "      <td id=\"T_520e4_row2_col1\" class=\"data row2 col1\" >2.6394</td>\n",
              "      <td id=\"T_520e4_row2_col2\" class=\"data row2 col2\" >1.6246</td>\n",
              "      <td id=\"T_520e4_row2_col3\" class=\"data row2 col3\" >0.9865</td>\n",
              "      <td id=\"T_520e4_row2_col4\" class=\"data row2 col4\" >0.2147</td>\n",
              "      <td id=\"T_520e4_row2_col5\" class=\"data row2 col5\" >0.1899</td>\n",
              "    </tr>\n",
              "    <tr>\n",
              "      <th id=\"T_520e4_level0_row3\" class=\"row_heading level0 row3\" >Mean</th>\n",
              "      <td id=\"T_520e4_row3_col0\" class=\"data row3 col0\" >0.3102</td>\n",
              "      <td id=\"T_520e4_row3_col1\" class=\"data row3 col1\" >5.4850</td>\n",
              "      <td id=\"T_520e4_row3_col2\" class=\"data row3 col2\" >2.2514</td>\n",
              "      <td id=\"T_520e4_row3_col3\" class=\"data row3 col3\" >0.9786</td>\n",
              "      <td id=\"T_520e4_row3_col4\" class=\"data row3 col4\" >0.2048</td>\n",
              "      <td id=\"T_520e4_row3_col5\" class=\"data row3 col5\" >0.1777</td>\n",
              "    </tr>\n",
              "    <tr>\n",
              "      <th id=\"T_520e4_level0_row4\" class=\"row_heading level0 row4\" >Std</th>\n",
              "      <td id=\"T_520e4_row4_col0\" class=\"data row4 col0\" >0.0133</td>\n",
              "      <td id=\"T_520e4_row4_col1\" class=\"data row4 col1\" >3.1364</td>\n",
              "      <td id=\"T_520e4_row4_col2\" class=\"data row4 col2\" >0.6453</td>\n",
              "      <td id=\"T_520e4_row4_col3\" class=\"data row4 col3\" >0.0098</td>\n",
              "      <td id=\"T_520e4_row4_col4\" class=\"data row4 col4\" >0.0070</td>\n",
              "      <td id=\"T_520e4_row4_col5\" class=\"data row4 col5\" >0.0089</td>\n",
              "    </tr>\n",
              "  </tbody>\n",
              "</table>\n"
            ]
          },
          "metadata": {}
        },
        {
          "output_type": "display_data",
          "data": {
            "text/plain": [
              "Processing:   0%|          | 0/7 [00:00<?, ?it/s]"
            ],
            "application/vnd.jupyter.widget-view+json": {
              "version_major": 2,
              "version_minor": 0,
              "model_id": "dc30c642bde345c890d3bbc0a5915782"
            }
          },
          "metadata": {
            "application/vnd.jupyter.widget-view+json": {
              "colab": {
                "custom_widget_manager": {
                  "url": "https://ssl.gstatic.com/colaboratory-static/widgets/colab-cdn-widget-manager/b3e629b1971e1542/manager.min.js"
                }
              }
            }
          }
        },
        {
          "output_type": "stream",
          "name": "stdout",
          "text": [
            "Fitting 3 folds for each of 20 candidates, totalling 60 fits\n"
          ]
        },
        {
          "output_type": "display_data",
          "data": {
            "text/plain": [
              "<IPython.core.display.HTML object>"
            ],
            "text/html": []
          },
          "metadata": {}
        }
      ]
    },
    {
      "cell_type": "code",
      "source": [
        "evaluate_model(best)"
      ],
      "metadata": {
        "colab": {
          "base_uri": "https://localhost:8080/",
          "height": 174,
          "referenced_widgets": [
            "3264d60012a84d05991f1fc37ce37f5e",
            "2dec53a8d66e41f2a88ae93636551fb5",
            "834fe49091ef4e71a28fb136453d7d07",
            "f03f449ff7514629a046f4723ee06ee0",
            "59cabb7994874fd9be3aa5b05178d488",
            "fb36f58363a7491b89d311a7152e106d",
            "52527d8d44f3452a9a642137b882198f"
          ]
        },
        "id": "IANCAiXXVHmp",
        "outputId": "06db9208-cb1d-4b1e-c5a5-c60021d58102"
      },
      "execution_count": 15,
      "outputs": [
        {
          "output_type": "display_data",
          "data": {
            "text/plain": [
              "interactive(children=(ToggleButtons(description='Plot Type:', icons=('',), options=(('Pipeline Plot', 'pipelin…"
            ],
            "application/vnd.jupyter.widget-view+json": {
              "version_major": 2,
              "version_minor": 0,
              "model_id": "3264d60012a84d05991f1fc37ce37f5e"
            }
          },
          "metadata": {
            "application/vnd.jupyter.widget-view+json": {
              "colab": {
                "custom_widget_manager": {
                  "url": "https://ssl.gstatic.com/colaboratory-static/widgets/colab-cdn-widget-manager/b3e629b1971e1542/manager.min.js"
                }
              }
            }
          }
        }
      ]
    },
    {
      "cell_type": "code",
      "source": [
        "plot_model(best, plot = 'residuals')"
      ],
      "metadata": {
        "colab": {
          "base_uri": "https://localhost:8080/",
          "height": 524
        },
        "id": "WRgScM58VHsU",
        "outputId": "000b3b4c-755f-46ad-fa52-94ed9cf290e2"
      },
      "execution_count": 16,
      "outputs": [
        {
          "output_type": "display_data",
          "data": {
            "text/plain": [
              "<IPython.core.display.HTML object>"
            ],
            "text/html": []
          },
          "metadata": {}
        },
        {
          "output_type": "display_data",
          "data": {
            "text/plain": [
              "<Figure size 800x550 with 2 Axes>"
            ],
            "image/png": "[encoded data removed]"
          },
          "metadata": {}
        }
      ]
    }
  ]
}